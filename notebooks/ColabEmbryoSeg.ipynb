{
 "cells": [
  {
   "cell_type": "markdown",
   "metadata": {
    "id": "SekLpHr824T9"
   },
   "source": [
    "# This notebook is used to perform Slice by slice segmentation of mouse preplantation Embryo cells\n",
    "The models enetered in this notebook are the 2D UNET model and 2D Stardist model\n",
    "The input is the directory of 3D images, the UNET model which is trained on a \n",
    "set of 2D images is applied to each slice. Same for the stardist model. These predictions are used to make the smartseed predictions and the slices are stitched together to make fake 3D segmentations based on the user input parameters."
   ]
  },
  {
   "cell_type": "code",
   "execution_count": null,
   "metadata": {
    "colab": {
     "base_uri": "https://localhost:8080/"
    },
    "id": "bR7dBQUT24UD",
    "outputId": "2129ddbf-f34f-48f2-adf3-32d8afab75f6"
   },
   "outputs": [],
   "source": [
    "from google.colab import drive\n",
    "drive.mount('/content/drive', force_remount = True)\n",
    "%tensorflow_version 1.x"
   ]
  },
  {
   "cell_type": "code",
   "execution_count": null,
   "metadata": {
    "colab": {
     "base_uri": "https://localhost:8080/"
    },
    "id": "IT1h6nJj24UD",
    "outputId": "8542f434-bc19-42f6-dcee-79993cf2f284"
   },
   "outputs": [],
   "source": [
    "!pip install tiffile\n",
    "!pip install elasticdeform\n",
    "!pip install keras==2.2.5\n",
    "!pip install csbdeep\n",
    "!pip install stardist\n",
    "!pip install embryoseg"
   ]
  },
  {
   "cell_type": "code",
   "execution_count": null,
   "metadata": {
    "colab": {
     "base_uri": "https://localhost:8080/"
    },
    "id": "os3962KF24UE",
    "outputId": "7e7ef9ed-54a3-4932-fbb6-00e06d1f6a71"
   },
   "outputs": [],
   "source": [
    "%cd '/content/drive/My Drive/BTrack/'\n",
    "import glob\n",
    "import os\n",
    "import numpy as np\n",
    "from embryoseg.utils.helpers import EmbryoSegFunction, plot3D\n",
    "\n",
    "os.environ[\"HDF5_USE_FILE_LOCKING\"] = \"FALSE\"\n",
    "from pathlib import Path\n",
    "from stardist.models import StarDist2D\n",
    "from csbdeep.models import Config, CARE\n"
   ]
  },
  {
   "cell_type": "code",
   "execution_count": null,
   "metadata": {
    "colab": {
     "base_uri": "https://localhost:8080/"
    },
    "id": "4h9ULssr24UE",
    "outputId": "ea94ab1c-ec03-420b-e250-712fbb12021d"
   },
   "outputs": [],
   "source": [
    "ImageDir = '/content/drive/My Drive/BTrack/EmbryoSeg/Images/'\n",
    "Model_Dir = '/content/drive/My Drive/BTrack/EmbryoSeg/models/'\n",
    "SaveDir = '/content/drive/My Drive/BTrack/EmbryoSeg/save/'\n",
    "\n",
    "\n",
    "StardistModelName = 'StarMaitreLabMouseEmbryo'\n",
    "UNETModelName = 'UnetMaitreLabMouseEmbryo'\n",
    "\n",
    "StarModel = StarDist2D(config = None, name = StardistModelName, basedir = Model_Dir)\n",
    "UnetModel = CARE(config = None, name = UNETModelName, basedir = Model_Dir)"
   ]
  },
  {
   "cell_type": "code",
   "execution_count": null,
   "metadata": {
    "id": "XTd2TMTR24UE"
   },
   "outputs": [],
   "source": [
    "#Number of tiles to break the image into for applying the prediction to fit in the computer memory\n",
    "n_tiles = (1,1)\n",
    "#Minimum size of the Mask region to be segmented\n",
    "min_size_mask = 1500\n",
    "#Minimum size of the individual cells inside the Mask region to be segmented\n",
    "min_size = 1500\n",
    "#Number of pixels to correct for proper boundary reconstruction, it is emperical and depends on quality \n",
    "#of trained model\n",
    "smartcorrection = 15\n",
    "#The distance between the slices in pixels that has to be stitched toger to make a fake 3D object\n",
    "#Fake 3D object have the same integer label segmentation/same color in Napari browser\n",
    "linkthreshold = 20\n",
    "displayResultImages = 10"
   ]
  },
  {
   "cell_type": "code",
   "execution_count": null,
   "metadata": {
    "colab": {
     "base_uri": "https://localhost:8080/",
     "height": 1000
    },
    "id": "FR9gLY-V24UF",
    "outputId": "d76388a8-dd5b-48db-f73c-79e55efac014",
    "scrolled": false
   },
   "outputs": [],
   "source": [
    "Raw_path = os.path.join(ImageDir, '*tif')\n",
    "filesRaw = glob.glob(Raw_path)\n",
    "filesRaw.sort\n",
    "for fname in filesRaw:\n",
    "          \n",
    "    EmbryoSegFunction(ImageDir, SaveDir, fname, UnetModel, StarModel,  min_size_mask = min_size_mask, min_size = min_size, n_tiles = n_tiles, \n",
    "                             smartcorrection = smartcorrection, threshold = linkthreshold, masklinkthreshold = linkthreshold)\n"
   ]
  },
  {
   "cell_type": "code",
   "execution_count": null,
   "metadata": {
    "id": "3kCsO0n124UF"
   },
   "outputs": [],
   "source": [
    "plot3D(ImageDir, SaveDir + 'SmartSeedsMask/', time = 3, Z = 2, showMany = displayResultImages)"
   ]
  },
  {
   "cell_type": "code",
   "execution_count": null,
   "metadata": {
    "id": "JMYxhPWp24UF"
   },
   "outputs": [],
   "source": []
  }
 ],
 "metadata": {
  "accelerator": "GPU",
  "colab": {
   "collapsed_sections": [],
   "machine_shape": "hm",
   "name": "ColabEmbryoSeg.ipynb",
   "provenance": []
  },
  "kernelspec": {
   "display_name": "Python 3",
   "language": "python",
   "name": "python3"
  },
  "language_info": {
   "codemirror_mode": {
    "name": "ipython",
    "version": 3
   },
   "file_extension": ".py",
   "mimetype": "text/x-python",
   "name": "python",
   "nbconvert_exporter": "python",
   "pygments_lexer": "ipython3",
   "version": "3.7.4"
  }
 },
 "nbformat": 4,
 "nbformat_minor": 1
}
