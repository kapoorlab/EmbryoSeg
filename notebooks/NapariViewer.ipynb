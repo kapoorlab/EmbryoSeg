{
 "cells": [
  {
   "cell_type": "markdown",
   "metadata": {},
   "source": [
    "# Simple Napari Correction Tool\n",
    "\n",
    "In this notebook we correct the segmentation msitakes coming form our segmentation program. From the segmentation program we get Masks/Interger Lablled images with have a Name Appended to them by the segmentation program. This program makes pairs from the Raw image directory with the segmewntation image directory using this name difference and uses Napari viewer to correct the segmentation mistakes. \n",
    "\n",
    "After doing the corrections the users can close the napari viewer to save the correction swhich will overwrite the files inside the directory with the corrected ones."
   ]
  },
  {
   "cell_type": "code",
   "execution_count": 1,
   "metadata": {},
   "outputs": [],
   "source": [
    "import sys\n",
    "import numpy as np\n",
    "import glob\n",
    "import os\n",
    "from tifffile import imread, imwrite\n",
    "import napari\n",
    "from pathlib import Path\n"
   ]
  },
  {
   "cell_type": "code",
   "execution_count": 2,
   "metadata": {},
   "outputs": [],
   "source": [
    "Imagedir = '/Users/aimachine/EmbryoSeg/Images/'\n",
    "\n",
    "\n",
    "SegmentationDir = '/Users/aimachine/EmbryoSeg/save/SmartSeedsMask/'\n",
    "\n",
    "\n",
    "#ZYX pixel to um scaling\n",
    "scale = [4,1,1]"
   ]
  },
  {
   "cell_type": "code",
   "execution_count": 3,
   "metadata": {},
   "outputs": [
    {
     "ename": "SyntaxError",
     "evalue": "invalid syntax (<ipython-input-3-182871dc03bc>, line 17)",
     "output_type": "error",
     "traceback": [
      "\u001b[0;36m  File \u001b[0;32m\"<ipython-input-3-182871dc03bc>\"\u001b[0;36m, line \u001b[0;32m17\u001b[0m\n\u001b[0;31m    if os.path.basename(os.path.splitext(secondname)[0]) ==\u001b[0m\n\u001b[0m                                                            ^\u001b[0m\n\u001b[0;31mSyntaxError\u001b[0m\u001b[0;31m:\u001b[0m invalid syntax\n"
     ]
    }
   ],
   "source": [
    "Raw_path = os.path.join(Imagedir, '*tif')\n",
    "\n",
    "Seg_path = os.path.join(SegmentationDir, '*tif')\n",
    " \n",
    "filesRaw = glob.glob(Raw_path)\n",
    "filesRaw.sort\n",
    "filesSeg = glob.glob(Seg_path)\n",
    "filesSeg.sort\n",
    "\n",
    "\n",
    "RawImages = []\n",
    "SegImages = []\n",
    "Name = []\n",
    "for fname in filesRaw:\n",
    "  for secondname in filesSeg:\n",
    "    \n",
    "    if os.path.basename(os.path.splitext(secondname)[0]) == os.path.basename(os.path.splitext(fname)[0]):\n",
    "            print(fname)\n",
    "            image = imread(fname)\n",
    "            \n",
    "            Segimage = imread(secondname)\n",
    "            \n",
    "            \n",
    "            Name = (os.path.basename(os.path.splitext(fname)[0]))\n",
    "            with napari.gui_qt():\n",
    "   \n",
    "    \n",
    "                viewer = napari.view_image(image, name='Raw', scale = scale)\n",
    "                \n",
    "                label_layer = viewer.add_labels(Segimage, name= 'Segmentation', scale = scale) \n",
    "                \n",
    "            ModifiedArray = viewer.layers['Segmentation'].data \n",
    "            imwrite((SegmentationDir  + NameDifference +   Name + '.tif' ) , (ModifiedArray.astype('uint16'))) \n",
    "            "
   ]
  },
  {
   "cell_type": "code",
   "execution_count": null,
   "metadata": {},
   "outputs": [],
   "source": []
  },
  {
   "cell_type": "code",
   "execution_count": null,
   "metadata": {},
   "outputs": [],
   "source": []
  }
 ],
 "metadata": {
  "kernelspec": {
   "display_name": "Python [conda env:NapariTrack]",
   "language": "python",
   "name": "conda-env-NapariTrack-py"
  },
  "language_info": {
   "codemirror_mode": {
    "name": "ipython",
    "version": 3
   },
   "file_extension": ".py",
   "mimetype": "text/x-python",
   "name": "python",
   "nbconvert_exporter": "python",
   "pygments_lexer": "ipython3",
   "version": "3.9.0"
  }
 },
 "nbformat": 4,
 "nbformat_minor": 2
}
