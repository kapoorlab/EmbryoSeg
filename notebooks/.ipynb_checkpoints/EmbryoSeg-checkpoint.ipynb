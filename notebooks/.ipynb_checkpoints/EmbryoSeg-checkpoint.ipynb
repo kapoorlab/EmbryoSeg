{
 "cells": [
  {
   "cell_type": "markdown",
   "metadata": {},
   "source": [
    "# This notebook is used to perform Slice by slice segmentation of mouse preplantation Embryo cells\n",
    "The models enetered in this notebook are the 2D UNET model and 2D Stardist model\n",
    "The input is the directory of 3D images, the UNET model which is trained on a \n",
    "set of 2D images is applied to each slice. Same for the stardist model. These predictions are used to make the smartseed predictions and the slices are stitched together to make fake 3D segmentations based on the user input parameters."
   ]
  },
  {
   "cell_type": "code",
   "execution_count": 1,
   "metadata": {},
   "outputs": [
    {
     "name": "stderr",
     "output_type": "stream",
     "text": [
      "Using TensorFlow backend.\n"
     ]
    },
    {
     "ename": "ModuleNotFoundError",
     "evalue": "No module named 'embryoseg.stardist_kapoor.geometry'",
     "output_type": "error",
     "traceback": [
      "\u001b[0;31m---------------------------------------------------------------------------\u001b[0m",
      "\u001b[0;31mModuleNotFoundError\u001b[0m                       Traceback (most recent call last)",
      "\u001b[0;32m<ipython-input-1-812b91bd261f>\u001b[0m in \u001b[0;36m<module>\u001b[0;34m\u001b[0m\n\u001b[1;32m      6\u001b[0m \u001b[0mos\u001b[0m\u001b[0;34m.\u001b[0m\u001b[0menviron\u001b[0m\u001b[0;34m[\u001b[0m\u001b[0;34m\"HDF5_USE_FILE_LOCKING\"\u001b[0m\u001b[0;34m]\u001b[0m \u001b[0;34m=\u001b[0m \u001b[0;34m\"FALSE\"\u001b[0m\u001b[0;34m\u001b[0m\u001b[0;34m\u001b[0m\u001b[0m\n\u001b[1;32m      7\u001b[0m \u001b[0;32mfrom\u001b[0m \u001b[0mpathlib\u001b[0m \u001b[0;32mimport\u001b[0m \u001b[0mPath\u001b[0m\u001b[0;34m\u001b[0m\u001b[0;34m\u001b[0m\u001b[0m\n\u001b[0;32m----> 8\u001b[0;31m \u001b[0;32mfrom\u001b[0m \u001b[0membryoseg\u001b[0m\u001b[0;34m.\u001b[0m\u001b[0mstardist_kapoor\u001b[0m\u001b[0;34m.\u001b[0m\u001b[0mmodels\u001b[0m \u001b[0;32mimport\u001b[0m \u001b[0mStarDist2D\u001b[0m\u001b[0;34m\u001b[0m\u001b[0;34m\u001b[0m\u001b[0m\n\u001b[0m\u001b[1;32m      9\u001b[0m \u001b[0;32mfrom\u001b[0m \u001b[0mcsbdeep\u001b[0m\u001b[0;34m.\u001b[0m\u001b[0mmodels\u001b[0m \u001b[0;32mimport\u001b[0m \u001b[0mConfig\u001b[0m\u001b[0;34m,\u001b[0m \u001b[0mCARE\u001b[0m\u001b[0;34m\u001b[0m\u001b[0;34m\u001b[0m\u001b[0m\n",
      "\u001b[0;32m~/anaconda3/envs/tensorflowGPU/lib/python3.6/site-packages/embryoseg/stardist_kapoor/__init__.py\u001b[0m in \u001b[0;36m<module>\u001b[0;34m\u001b[0m\n\u001b[1;32m      6\u001b[0m \u001b[0;32mfrom\u001b[0m \u001b[0;34m.\u001b[0m\u001b[0mnms\u001b[0m \u001b[0;32mimport\u001b[0m \u001b[0mnon_maximum_suppression\u001b[0m\u001b[0;34m,\u001b[0m \u001b[0mnon_maximum_suppression_3d\u001b[0m\u001b[0;34m\u001b[0m\u001b[0;34m\u001b[0m\u001b[0m\n\u001b[1;32m      7\u001b[0m \u001b[0;32mfrom\u001b[0m \u001b[0;34m.\u001b[0m\u001b[0mutils\u001b[0m \u001b[0;32mimport\u001b[0m \u001b[0medt_prob\u001b[0m\u001b[0;34m,\u001b[0m \u001b[0mfill_label_holes\u001b[0m\u001b[0;34m,\u001b[0m \u001b[0msample_points\u001b[0m\u001b[0;34m,\u001b[0m \u001b[0mcalculate_extents\u001b[0m\u001b[0;34m,\u001b[0m \u001b[0mexport_imagej_rois\u001b[0m\u001b[0;34m,\u001b[0m \u001b[0mgputools_available\u001b[0m\u001b[0;34m\u001b[0m\u001b[0;34m\u001b[0m\u001b[0m\n\u001b[0;32m----> 8\u001b[0;31m \u001b[0;32mfrom\u001b[0m \u001b[0;34m.\u001b[0m\u001b[0mgeometry\u001b[0m \u001b[0;32mimport\u001b[0m \u001b[0mstar_dist\u001b[0m\u001b[0;34m,\u001b[0m   \u001b[0mpolygons_to_label\u001b[0m\u001b[0;34m,\u001b[0m   \u001b[0mrelabel_image_stardist\u001b[0m\u001b[0;34m,\u001b[0m \u001b[0mray_angles\u001b[0m\u001b[0;34m,\u001b[0m \u001b[0mdist_to_coord\u001b[0m\u001b[0;34m\u001b[0m\u001b[0;34m\u001b[0m\u001b[0m\n\u001b[0m\u001b[1;32m      9\u001b[0m \u001b[0;32mfrom\u001b[0m \u001b[0;34m.\u001b[0m\u001b[0mgeometry\u001b[0m \u001b[0;32mimport\u001b[0m \u001b[0mstar_dist3D\u001b[0m\u001b[0;34m,\u001b[0m \u001b[0mpolyhedron_to_label\u001b[0m\u001b[0;34m,\u001b[0m \u001b[0mrelabel_image_stardist3D\u001b[0m\u001b[0;34m\u001b[0m\u001b[0;34m\u001b[0m\u001b[0m\n\u001b[1;32m     10\u001b[0m \u001b[0;32mfrom\u001b[0m \u001b[0;34m.\u001b[0m\u001b[0mplot\u001b[0m \u001b[0;32mimport\u001b[0m \u001b[0mrandom_label_cmap\u001b[0m\u001b[0;34m,\u001b[0m \u001b[0mdraw_polygons\u001b[0m\u001b[0;34m,\u001b[0m \u001b[0m_draw_polygons\u001b[0m\u001b[0;34m\u001b[0m\u001b[0;34m\u001b[0m\u001b[0m\n",
      "\u001b[0;31mModuleNotFoundError\u001b[0m: No module named 'embryoseg.stardist_kapoor.geometry'"
     ]
    }
   ],
   "source": [
    "\n",
    "import os\n",
    "os.environ[\"CUDA_VISIBLE_DEVICES\"]=\"0\"\n",
    "import glob\n",
    "import numpy as np\n",
    "from embryoseg.utils.helpers import EmbryoSegFunction\n",
    "os.environ[\"HDF5_USE_FILE_LOCKING\"] = \"FALSE\"\n",
    "from pathlib import Path\n",
    "from embryoseg.stardist_kapoor.models import StarDist2D\n",
    "from csbdeep.models import Config, CARE"
   ]
  },
  {
   "cell_type": "code",
   "execution_count": null,
   "metadata": {},
   "outputs": [],
   "source": [
    "ImageDir = '/Users/aimachine/EmbryoSeg/Images/'\n",
    "Model_Dir = '/Users/aimachine/EmbryoSeg/models/'\n",
    "SaveDir = '/Users/aimachine/EmbryoSeg/save/'\n",
    "\n",
    "\n",
    "\n",
    "StardistModelName = 'StarMaitreLabMouseEmbryo'\n",
    "UNETModelName = 'UnetMaitreLabMouseEmbryo'\n",
    "\n",
    "\n",
    "StarModel = StarDist2D(config = None, name = StardistModelName, basedir = Model_Dir)\n",
    "UnetModel = CARE(config = None, name = UNETModelName, basedir = Model_Dir)"
   ]
  },
  {
   "cell_type": "code",
   "execution_count": null,
   "metadata": {},
   "outputs": [],
   "source": [
    "#Number of tiles to break the image into for applying the prediction to fit in the computer memory\n",
    "n_tiles = (1,1)\n",
    "#Minimum size of the Mask region to be segmented\n",
    "min_size_mask = 1500\n",
    "#Minimum size of the individual cells inside the Mask region to be segmented\n",
    "min_size = 1500\n",
    "#Number of pixels to correct for proper boundary reconstruction, it is emperical and depends on quality \n",
    "#of trained model\n",
    "smartcorrection = 15\n",
    "#The distance between the slices in pixels that has to be stitched toger to make a fake 3D object\n",
    "#Fake 3D object have the same integer label segmentation/same color in Napari browser\n",
    "linkthreshold = 20\n"
   ]
  },
  {
   "cell_type": "code",
   "execution_count": null,
   "metadata": {
    "scrolled": false
   },
   "outputs": [],
   "source": [
    "Raw_path = os.path.join(ImageDir, '*tif')\n",
    "filesRaw = glob.glob(Raw_path)\n",
    "filesRaw.sort\n",
    "for fname in filesRaw:\n",
    "          \n",
    "    EmbryoSegFunction(ImageDir, SaveDir, fname, UnetModel, StarModel,  min_size_mask = min_size_mask, min_size = min_size, n_tiles = n_tiles, \n",
    "                             smartcorrection = smartcorrection, threshold = linkthreshold, masklinkthreshold = linkthreshold)\n"
   ]
  },
  {
   "cell_type": "code",
   "execution_count": null,
   "metadata": {},
   "outputs": [],
   "source": []
  },
  {
   "cell_type": "code",
   "execution_count": null,
   "metadata": {},
   "outputs": [],
   "source": []
  }
 ],
 "metadata": {
  "kernelspec": {
   "display_name": "Python 3",
   "language": "python",
   "name": "python3"
  },
  "language_info": {
   "codemirror_mode": {
    "name": "ipython",
    "version": 3
   },
   "file_extension": ".py",
   "mimetype": "text/x-python",
   "name": "python",
   "nbconvert_exporter": "python",
   "pygments_lexer": "ipython3",
   "version": "3.6.10"
  }
 },
 "nbformat": 4,
 "nbformat_minor": 2
}
