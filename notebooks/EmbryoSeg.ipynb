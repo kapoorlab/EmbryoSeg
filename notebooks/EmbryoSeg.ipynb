{
 "cells": [
  {
   "cell_type": "markdown",
   "metadata": {},
   "source": [
    "# This notebook is used to perform Slice by slice segmentation of mouse preplantation Embryo cells\n",
    "The models enetered in this notebook are the 2D UNET model and 2D Stardist model\n",
    "The input is the directory of 3D images, the UNET model which is trained on a \n",
    "set of 2D images is applied to each slice. Same for the stardist model. These predictions are used to make the smartseed predictions and the slices are stitched together to make fake 3D segmentations based on the user input parameters."
   ]
  },
  {
   "cell_type": "code",
   "execution_count": null,
   "metadata": {},
   "outputs": [],
   "source": [
    "\n",
    "import os\n",
    "os.environ[\"CUDA_VISIBLE_DEVICES\"]=\"0\"\n",
    "import glob\n",
    "import numpy as np\n",
    "from embryoseg.utils.helpers import EmbryoSegFunction\n",
    "os.environ[\"HDF5_USE_FILE_LOCKING\"] = \"FALSE\"\n",
    "from pathlib import Path\n",
    "from embryoseg.stardist_kapoor.models import StarDist2D\n",
    "from csbdeep.models import Config, CARE"
   ]
  },
  {
   "cell_type": "code",
   "execution_count": null,
   "metadata": {},
   "outputs": [],
   "source": [
    "ImageDir = '/Users/aimachine/EmbryoSeg/Images/'\n",
    "Model_Dir = '/Users/aimachine/EmbryoSeg/models/'\n",
    "SaveDir = '/Users/aimachine/EmbryoSeg/save/'\n",
    "\n",
    "\n",
    "\n",
    "StardistModelName = 'StarMaitreLabMouseEmbryo'\n",
    "UNETModelName = 'UnetMaitreLabMouseEmbryo'\n",
    "\n",
    "\n",
    "StarModel = StarDist2D(config = None, name = StardistModelName, basedir = Model_Dir)\n",
    "UnetModel = CARE(config = None, name = UNETModelName, basedir = Model_Dir)"
   ]
  },
  {
   "cell_type": "code",
   "execution_count": null,
   "metadata": {},
   "outputs": [],
   "source": [
    "#Number of tiles to break the image into for applying the prediction to fit in the computer memory\n",
    "n_tiles = (1,1)\n",
    "#Minimum size of the Mask region to be segmented\n",
    "min_size_mask = 1500\n",
    "#Minimum size of the individual cells inside the Mask region to be segmented\n",
    "min_size = 1500\n",
    "#Number of pixels to correct for proper boundary reconstruction, it is emperical and depends on quality \n",
    "#of trained model\n",
    "smartcorrection = 15\n",
    "#The distance between the slices in pixels that has to be stitched toger to make a fake 3D object\n",
    "#Fake 3D object have the same integer label segmentation/same color in Napari browser\n",
    "linkthreshold = 20\n"
   ]
  },
  {
   "cell_type": "code",
   "execution_count": null,
   "metadata": {
    "scrolled": false
   },
   "outputs": [],
   "source": [
    "Raw_path = os.path.join(ImageDir, '*tif')\n",
    "filesRaw = glob.glob(Raw_path)\n",
    "filesRaw.sort\n",
    "for fname in filesRaw:\n",
    "          \n",
    "    EmbryoSegFunction(ImageDir, SaveDir, fname, UnetModel, StarModel,  min_size_mask = min_size_mask, min_size = min_size, n_tiles = n_tiles, \n",
    "                             smartcorrection = smartcorrection, threshold = linkthreshold, masklinkthreshold = linkthreshold)\n"
   ]
  },
  {
   "cell_type": "code",
   "execution_count": null,
   "metadata": {},
   "outputs": [],
   "source": []
  },
  {
   "cell_type": "code",
   "execution_count": null,
   "metadata": {},
   "outputs": [],
   "source": []
  }
 ],
 "metadata": {
  "kernelspec": {
   "display_name": "Python 3",
   "language": "python",
   "name": "python3"
  },
  "language_info": {
   "codemirror_mode": {
    "name": "ipython",
    "version": 3
   },
   "file_extension": ".py",
   "mimetype": "text/x-python",
   "name": "python",
   "nbconvert_exporter": "python",
   "pygments_lexer": "ipython3",
   "version": "3.6.10"
  }
 },
 "nbformat": 4,
 "nbformat_minor": 2
}
