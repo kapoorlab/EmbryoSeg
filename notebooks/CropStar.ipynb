{
 "cells": [
  {
   "cell_type": "code",
   "execution_count": 1,
   "metadata": {},
   "outputs": [],
   "source": [
    "import os\n",
    "os.environ[\"CUDA_VISIBLE_DEVICES\"]=\"0\"\n",
    "import glob\n",
    "import sys\n",
    "sys.path.append('../../')\n",
    "import glob\n",
    "from sampling import Crops2D\n",
    "from tifffile import imread, imwrite\n",
    "os.environ[\"HDF5_USE_FILE_LOCKING\"] = \"FALSE\""
   ]
  },
  {
   "cell_type": "code",
   "execution_count": null,
   "metadata": {
    "scrolled": true
   },
   "outputs": [
    {
     "name": "stdout",
     "output_type": "stream",
     "text": [
      "Instance segmentation masks: 2856\n",
      "Semantic segmentation masks: 0\n",
      "Generating Binary images\n"
     ]
    }
   ],
   "source": [
    "Data_dir = '/home/sancere/Kepler/Lucas2Varun/1_StarWat_Training/DrosophilaMembraneData/'\n",
    "NPZ_filename = 'DrosophilaMembrane'\n",
    "\n",
    "PatchX = 384\n",
    "PatchY = 384\n",
    "n_patches_per_image = 20\n",
    "\n",
    "validation_split = 0.1\n",
    "Crops2D(Data_dir, NPZ_filename, PatchY, PatchX,n_patches_per_image, validation_split)"
   ]
  },
  {
   "cell_type": "code",
   "execution_count": null,
   "metadata": {},
   "outputs": [],
   "source": []
  }
 ],
 "metadata": {
  "kernelspec": {
   "display_name": "Python 3",
   "language": "python",
   "name": "python3"
  },
  "language_info": {
   "codemirror_mode": {
    "name": "ipython",
    "version": 3
   },
   "file_extension": ".py",
   "mimetype": "text/x-python",
   "name": "python",
   "nbconvert_exporter": "python",
   "pygments_lexer": "ipython3",
   "version": "3.6.10"
  }
 },
 "nbformat": 4,
 "nbformat_minor": 4
}
