{
 "cells": [
  {
   "cell_type": "code",
   "execution_count": 1,
   "metadata": {},
   "outputs": [],
   "source": [
    "import os\n",
    "os.environ[\"CUDA_VISIBLE_DEVICES\"]=\"0\"\n",
    "import glob\n",
    "import sys\n",
    "sys.path.append('../embryoseg/')\n",
    "import glob\n",
    "from sampling import Crops\n",
    "from tifffile import imread, imwrite\n",
    "os.environ[\"HDF5_USE_FILE_LOCKING\"] = \"FALSE\""
   ]
  },
  {
   "cell_type": "code",
   "execution_count": null,
   "metadata": {},
   "outputs": [],
   "source": [
    "LabelDir = '/home/sancere/Kepler/CurieTrainingDatasets/LightSheetTraining/RealMask/'\n",
    "RealMask = sorted(glob.glob(LabelDir + '*.tif'))\n",
    "Done = []\n",
    "for fname in RealMask:\n",
    "                    if fname not in Done:                           \n",
    "                            image = imread(fname)\n",
    "                            image = image -1\n",
    "                            Name = os.path.basename(os.path.splitext(fname)[0])\n",
    "                            imwrite((LabelDir + Name + '.tif'), image.astype('uint16'))\n",
    "                            Done.append(fname)"
   ]
  },
  {
   "cell_type": "code",
   "execution_count": null,
   "metadata": {
    "scrolled": true
   },
   "outputs": [],
   "source": [
    "Data_dir = '/home/sancere/Kepler/CurieTrainingDatasets/LightSheetTraining/'\n",
    "NPZ_filename = 'GuignardLabAscadianEmbryo'\n",
    "\n",
    "PatchX = 256\n",
    "PatchY = 256\n",
    "PatchZ = 64\n",
    "n_patches_per_image = 20\n",
    "GenerateNPZ = True\n",
    "validation_split = 0.1\n",
    "Crops(Data_dir, NPZ_filename,PatchZ, PatchY, PatchX,n_patches_per_image, GenerateNPZ, validation_split)"
   ]
  },
  {
   "cell_type": "code",
   "execution_count": null,
   "metadata": {},
   "outputs": [],
   "source": []
  }
 ],
 "metadata": {
  "kernelspec": {
   "display_name": "Python 3",
   "language": "python",
   "name": "python3"
  },
  "language_info": {
   "codemirror_mode": {
    "name": "ipython",
    "version": 3
   },
   "file_extension": ".py",
   "mimetype": "text/x-python",
   "name": "python",
   "nbconvert_exporter": "python",
   "pygments_lexer": "ipython3",
   "version": "3.7.4"
  }
 },
 "nbformat": 4,
 "nbformat_minor": 4
}
