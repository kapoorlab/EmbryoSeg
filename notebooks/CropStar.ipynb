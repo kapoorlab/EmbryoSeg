{
 "cells": [
  {
   "cell_type": "code",
   "execution_count": 1,
   "metadata": {},
   "outputs": [],
   "source": [
    "import os\n",
    "os.environ[\"CUDA_VISIBLE_DEVICES\"]=\"0\"\n",
    "import glob\n",
    "import sys\n",
    "sys.path.append('../embryoseg/')\n",
    "import glob\n",
    "from sampling import Crops\n",
    "from tifffile import imread, imwrite\n",
    "os.environ[\"HDF5_USE_FILE_LOCKING\"] = \"FALSE\""
   ]
  },
  {
   "cell_type": "code",
   "execution_count": null,
   "metadata": {
    "scrolled": true
   },
   "outputs": [
    {
     "name": "stdout",
     "output_type": "stream",
     "text": [
      "Instance segmentation masks: 802\n",
      "Semantic segmentation masks: 469\n",
      "Generating Binary images\n",
      "Astec-Pm7_fuse_t046\n",
      "Astec-Pm7_fuse_t047\n",
      "Astec-Pm7_fuse_t048\n",
      "Astec-Pm7_fuse_t049\n",
      "Astec-Pm7_fuse_t050\n",
      "Astec-Pm7_fuse_t051\n",
      "Astec-Pm7_fuse_t052\n",
      "Astec-Pm7_fuse_t053\n",
      "Astec-Pm7_fuse_t054\n",
      "Astec-Pm7_fuse_t055\n",
      "Astec-Pm7_fuse_t056\n",
      "Astec-Pm7_fuse_t057\n",
      "Astec-Pm7_fuse_t058\n",
      "Astec-Pm7_fuse_t059\n",
      "Astec-Pm7_fuse_t060\n",
      "Astec-Pm7_fuse_t061\n",
      "Astec-Pm7_fuse_t062\n",
      "Astec-Pm7_fuse_t063\n",
      "Astec-Pm7_fuse_t064\n",
      "Astec-Pm7_fuse_t065\n",
      "Astec-Pm7_fuse_t066\n",
      "Astec-Pm7_fuse_t067\n",
      "Astec-Pm7_fuse_t068\n"
     ]
    }
   ],
   "source": [
    "Data_dir = '/home/sancere/Kepler/CurieTrainingDatasets/LightSheetTraining/'\n",
    "NPZ_filename = 'GuignardLabAscadianEmbryo'\n",
    "\n",
    "PatchX = 256\n",
    "PatchY = 256\n",
    "PatchZ = 64\n",
    "n_patches_per_image = 20\n",
    "GenerateNPZ = True\n",
    "validation_split = 0.05\n",
    "Crops(Data_dir, NPZ_filename,PatchZ, PatchY, PatchX,n_patches_per_image, GenerateNPZ, validation_split)"
   ]
  },
  {
   "cell_type": "code",
   "execution_count": null,
   "metadata": {},
   "outputs": [],
   "source": []
  },
  {
   "cell_type": "code",
   "execution_count": null,
   "metadata": {},
   "outputs": [],
   "source": []
  }
 ],
 "metadata": {
  "kernelspec": {
   "display_name": "Python 3",
   "language": "python",
   "name": "python3"
  },
  "language_info": {
   "codemirror_mode": {
    "name": "ipython",
    "version": 3
   },
   "file_extension": ".py",
   "mimetype": "text/x-python",
   "name": "python",
   "nbconvert_exporter": "python",
   "pygments_lexer": "ipython3",
   "version": "3.7.4"
  }
 },
 "nbformat": 4,
 "nbformat_minor": 4
}
