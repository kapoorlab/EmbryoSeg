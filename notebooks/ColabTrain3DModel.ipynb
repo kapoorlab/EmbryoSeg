{
 "cells": [
  {
   "cell_type": "code",
   "execution_count": null,
   "metadata": {},
   "outputs": [],
   "source": [
    "from google.colab import drive\n",
    "drive.mount('/content/drive', force_remount = True)\n",
    "%tensorflow_version 1.x"
   ]
  },
  {
   "cell_type": "code",
   "execution_count": null,
   "metadata": {},
   "outputs": [],
   "source": [
    "!pip install tiffile\n",
    "!pip install elasticdeform\n",
    "!pip install keras==2.2.5\n",
    "!pip install csbdeep\n",
    "!pip install stardist\n",
    "!pip install embryoseg"
   ]
  },
  {
   "cell_type": "code",
   "execution_count": null,
   "metadata": {},
   "outputs": [],
   "source": [
    "%cd '/content/drive/My Drive/'\n",
    "import os\n",
    "from embryoseg.utils import SmartSeed3D\n",
    "os.environ[\"HDF5_USE_FILE_LOCKING\"] = \"FALSE\""
   ]
  },
  {
   "cell_type": "code",
   "execution_count": null,
   "metadata": {},
   "outputs": [],
   "source": [
    "Data_dir = '/content/drive/My Drive/LightSheetTraining/'\n",
    "NPZ_filename = 'GuignardLabAscadianEmbryo'\n",
    "Model_dir = Data_dir\n",
    "Model_Name = 'GuignardLabAscadianEmbryo'"
   ]
  },
  {
   "cell_type": "markdown",
   "metadata": {},
   "source": [
    "# In this cell choose the network training parameters for the Neural Network\n",
    "\n",
    "1) NetworkDepth = Depth of the network, with each increasing depth the image is downsampled by 2 hence the XY dimension of the data / 2^depth has to be greater than 1.\n",
    "\n",
    "2) Epochs, training for longer epochs ensures a well converged network and requires longer GPU runtimes.\n",
    "\n",
    "3) Learning rate is the parameter which controls the step size used in the optimization process and it should not be greater than 0.001 at the start of the training.\n",
    "\n",
    "4) batch size controls the number of images used for doing stochastic gradient descent and is a parameter that is limited by the GPU RAM available, if you do not have a lot of ran batch size < 10 should be optimal. \n",
    "\n",
    "5) PatchX,Y,Z is the patch size used for making patches out of the image data. The original image is broken down into patches for training. Patch size is chosen based on having enough context for the network to learn but at the same time not being too big to obscure memory usage.\n",
    "\n",
    "6) Kernel is the receptive field of the neural network, usual choices are 3,5 or 7 but not larger than that. This is the size of the convolutional kernel used in the network\n",
    "\n",
    "7) n_patches_per_image is the number of patches sampled for each image to create the npz file, choose an optimal value so that the file is not too big for the computer memory. \n",
    "\n",
    "8) Rays is the number of rays used the learn the distance map, low rays decreases the spatial resoultion and high rays are able to resolve the shape better.\n",
    "\n",
    "\n",
    "9) OpenCL is a boolean parameter that is set true if you want to do some opencl computations on the GPU, this requires GPU tools but if you do not have them set this to false.\n",
    "\n",
    "Some optimal values have been chosen by default and should work well for any NVDIA enabled GPU computer"
   ]
  },
  {
   "cell_type": "code",
   "execution_count": 1,
   "metadata": {},
   "outputs": [],
   "source": [
    "NetworkDepth = 5\n",
    "Epochs = 200\n",
    "LearningRate = 1.0E-4\n",
    "batch_size = 1\n",
    "PatchX = 256\n",
    "PatchY = 256\n",
    "PatchZ = 128\n",
    "Kernel = 3\n",
    "n_patches_per_image = 16\n",
    "Rays = 128\n",
    "startfilter = 48\n",
    "use_gpu_opencl = True\n",
    "#During the first run of the program generate the neccesary NPZ files\n",
    "GenerateNPZ = True\n",
    "GenerateStarNPZ = True\n",
    "#After the NPZ files have been generated change the booleans below to True to start training serially or \n",
    "#start one training on one notebook and second training on a copy of this notebbok to run on a second GPU\n",
    "TrainUNET = False\n",
    "TrainSTAR = False\n"
   ]
  },
  {
   "cell_type": "code",
   "execution_count": null,
   "metadata": {},
   "outputs": [],
   "source": [
    "SmartSeeds3D(BaseDir = Data_dir, NPZfilename = NPZ_filename, model_name = Model_Name, model_dir = Model_dir, n_patches_per_image = n_patches_per_image,GenerateNPZ = GenerateNPZ, GenerateStarNPZ = GenerateStarNPZ, TrainUNET = TrainUNET, TrainSTAR = TrainSTAR, PatchX= PatchX, PatchY= PatchY, PatchZ = PatchZ,  use_gpu = use_gpu_opencl,  batch_size = batch_size, depth = NetworkDepth, kern_size = Kernel, startfilter = startfilter, n_rays = Rays, epochs = Epochs, learning_rate = LearningRate)"
   ]
  }
 ],
 "metadata": {
  "kernelspec": {
   "display_name": "Python 3",
   "language": "python",
   "name": "python3"
  },
  "language_info": {
   "codemirror_mode": {
    "name": "ipython",
    "version": 3
   },
   "file_extension": ".py",
   "mimetype": "text/x-python",
   "name": "python",
   "nbconvert_exporter": "python",
   "pygments_lexer": "ipython3",
   "version": "3.7.4"
  }
 },
 "nbformat": 4,
 "nbformat_minor": 4
}
